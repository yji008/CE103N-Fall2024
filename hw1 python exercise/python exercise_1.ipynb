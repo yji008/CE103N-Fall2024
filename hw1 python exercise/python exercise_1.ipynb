{
 "cells": [
  {
   "cell_type": "markdown",
   "metadata": {},
   "source": [
    "# Terrestrial Hydrology Fall 2023 Lab 1\n",
    "\n",
    "Hi everyone! Welcome to your first python lab assignment. You will complete these assignments with a mix of responses as code and narrative text within this jupyter notebook document. To complete the assignment, go to File > Print Preview, and export as a PDF before uploading the assignment to Gradescope. \n",
    "\n",
    "Look for triple @@@ signs in places where we expect you to write code or respond to a question. \n",
    "The rest of the notebook should not require modification. "
   ]
  },
  {
   "cell_type": "code",
   "execution_count": null,
   "metadata": {},
   "outputs": [],
   "source": [
    "import numpy as np\n",
    "import pandas as pd\n",
    "import matplotlib.pyplot as plt\n",
    "from matplotlib import dates\n",
    "import matplotlib.dates as mdates"
   ]
  },
  {
   "cell_type": "markdown",
   "metadata": {},
   "source": [
    "### [1] Import the CSV file using pandas\n",
    "Below, use the pandas library ('pd') to import data held in the \"BORR_WY_2022.csv\" file. "
   ]
  },
  {
   "cell_type": "code",
   "execution_count": null,
   "metadata": {},
   "outputs": [],
   "source": [
    "met_data_22 = # @@@"
   ]
  },
  {
   "cell_type": "markdown",
   "metadata": {},
   "source": [
    "Print the table of the met data to see what variables you have. "
   ]
  },
  {
   "cell_type": "code",
   "execution_count": null,
   "metadata": {},
   "outputs": [],
   "source": [
    "# @@@ #(just type the variable name that contains the CSV table data)"
   ]
  },
  {
   "cell_type": "markdown",
   "metadata": {},
   "source": [
    "**QUESTION:** What is the temporal frequency of the data?"
   ]
  },
  {
   "cell_type": "markdown",
   "metadata": {},
   "source": [
    "**ANSWER:** @@@"
   ]
  },
  {
   "cell_type": "markdown",
   "metadata": {},
   "source": [
    "### [2] Beginning to Plot\n",
    "We will now start plotting the timeseries data, creating plots for air temperature, relative humidity, incoming solar radiation, and volumetric soil moisture. Do this using pyplot, in matplotlib. Label the y axis in each case, but do not include anything on the x axis. (You can use the provided line of code to neglect any x axis tick labels)."
   ]
  },
  {
   "cell_type": "code",
   "execution_count": null,
   "metadata": {},
   "outputs": [],
   "source": [
    "# Here, plot the timeseries of Average Air Temperature. \n",
    "#@@@\n",
    "plt.xticks([])"
   ]
  },
  {
   "cell_type": "code",
   "execution_count": null,
   "metadata": {},
   "outputs": [],
   "source": [
    "# Here, plot the timeseries of Relative Humidity.\n",
    "# @@@"
   ]
  },
  {
   "cell_type": "code",
   "execution_count": null,
   "metadata": {},
   "outputs": [],
   "source": [
    "# Here, plot the timeseries of Total Solar Radiation.\n",
    "# @@@"
   ]
  },
  {
   "cell_type": "code",
   "execution_count": null,
   "metadata": {},
   "outputs": [],
   "source": [
    "# Here, plot the timeseries of Vertically-Averaged Volumetric Water Content (soil moisture).\n",
    "# @@@"
   ]
  },
  {
   "cell_type": "markdown",
   "metadata": {},
   "source": [
    "### [3] Adding dates to the x axis\n",
    "This is a process that can look a bit different depending on your goals. To write dates on the x axes, we need to convert the dates from the table into python \"datetime\" objects. For now, we will do this for you with the following two lines of code:"
   ]
  },
  {
   "cell_type": "code",
   "execution_count": null,
   "metadata": {},
   "outputs": [],
   "source": [
    "met_data_22.Time = pd.to_datetime(met_data_22['Time'], format='%Y-%m-%d %H:%M:%S')\n",
    "met_data_22.set_index(['Time'],inplace=True)"
   ]
  },
  {
   "cell_type": "markdown",
   "metadata": {},
   "source": [
    "Now that we have python datetime objects set as the index of met_data_22, we can update our plots with dates. "
   ]
  },
  {
   "cell_type": "code",
   "execution_count": null,
   "metadata": {},
   "outputs": [],
   "source": [
    "# Remake the last plot (of soil moisture), but now plot met_data_22.index against the soil moisture variable. \n",
    "# @@@\n",
    "plt.ylabel()\n",
    "\n",
    "# You will notice the x axis is very busy. Limit the number of xticks displayed using the following lines of code:\n",
    "ax = plt.gca()\n",
    "ax.xaxis.set_major_locator(mdates.MonthLocator(interval=2))\n",
    "ax.xaxis.set_major_formatter(mdates.DateFormatter('%d-%m-%Y'))\n",
    "\n",
    "# We will then use autoformat to rotate the dates into a legible arrangement. \n",
    "plt.gcf().autofmt_xdate()\n",
    "plt.show()"
   ]
  },
  {
   "cell_type": "markdown",
   "metadata": {},
   "source": [
    "### [4] Plotting 4 Soil Temperatures on the Same Plot\n",
    "Let's now expand our plotting skills so that we can put multiple things on the same axes. "
   ]
  },
  {
   "cell_type": "code",
   "execution_count": null,
   "metadata": {},
   "outputs": [],
   "source": [
    "# Plot the Average Soil Temperatures at the four depths provided (50, 100, 200, 500 mm)\n",
    "# @@@\n",
    "\n",
    "# Use the same code as in Section [3] to prepare the x axis datetimes.\n",
    "# @@@\n",
    "\n",
    "# Add a legend to this figure to help with interpretation. \n",
    "# @@@"
   ]
  },
  {
   "cell_type": "markdown",
   "metadata": {},
   "source": [
    "**QUESTION:** Based on the overall patterns you see in the soil temperatures at different depths, how would you say soil temperature changes by season and depth at this site? (You can be brief; we will explore this in more detail later.)"
   ]
  },
  {
   "cell_type": "markdown",
   "metadata": {},
   "source": [
    "**ANSWER:** @@@"
   ]
  },
  {
   "cell_type": "markdown",
   "metadata": {},
   "source": [
    "### [5] Plot the rainfall as a step plot\n",
    "Now, use matplotlib's step plot function---step()---to plot the Rainfall observed at the site (in mm). As in all other plots, add an appropriate y axis label. You will want to reuse the code from [3] for date tick formatting again. "
   ]
  },
  {
   "cell_type": "code",
   "execution_count": null,
   "metadata": {},
   "outputs": [],
   "source": [
    "# Plot the Rainfall (mm) property against the index (datetimes) below. \n",
    "# @@@"
   ]
  },
  {
   "cell_type": "markdown",
   "metadata": {},
   "source": [
    "OK, let's now compare 2022 to the 2021 water year. "
   ]
  },
  {
   "cell_type": "code",
   "execution_count": null,
   "metadata": {},
   "outputs": [],
   "source": [
    "# Import the 2021 Water Year Data. \n",
    "# @@@\n",
    "\n",
    "# Now do the same process of turning the time information into pandas datetime format as we did at the beginning of section [3].\n",
    "# @@@"
   ]
  },
  {
   "cell_type": "markdown",
   "metadata": {},
   "source": [
    "Plot the rainfall for 2022 and 2021 on top of each other using subplots---plt.subplots()."
   ]
  },
  {
   "cell_type": "code",
   "execution_count": null,
   "metadata": {},
   "outputs": [],
   "source": [
    "# @@@"
   ]
  },
  {
   "cell_type": "markdown",
   "metadata": {},
   "source": [
    "Congrats! You've reached the end of Lab 1. "
   ]
  }
 ],
 "metadata": {
  "kernelspec": {
   "display_name": "Python 3 (ipykernel)",
   "language": "python",
   "name": "python3"
  },
  "language_info": {
   "codemirror_mode": {
    "name": "ipython",
    "version": 3
   },
   "file_extension": ".py",
   "mimetype": "text/x-python",
   "name": "python",
   "nbconvert_exporter": "python",
   "pygments_lexer": "ipython3",
   "version": "3.11.9"
  }
 },
 "nbformat": 4,
 "nbformat_minor": 4
}
