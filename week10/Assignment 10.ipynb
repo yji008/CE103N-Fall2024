{
 "cells": [
  {
   "cell_type": "markdown",
   "id": "868a3699",
   "metadata": {},
   "source": [
    "# Python Assignment: Analyzing Rainfall and Creek Data "
   ]
  },
  {
   "cell_type": "markdown",
   "id": "994836c0",
   "metadata": {},
   "source": [
    "Background:\n",
    "Strawberry Creek flows through UC Berkeley and serves as an example of successful conservation efforts. Once heavily polluted, the creek has experienced significant water quality improvements since 1978. Native fish were reintroduced in 1989, and today, they continue to thrive, showcasing the positive impact of restoration initiatives.\n",
    "\n",
    "To monitor the creek’s condition, six sampling locations have been established along its course. These sites are used to track temperature, water depth, and electrical conductivity over time, with a focus on responses to rainfall events and water main breaks.\n",
    "\n",
    "Objective:\n",
    "This assignment involves analyzing one of the sensor data collected in May 2023. You will be guided through the process of data analysis and exploration within a hydrological context. Your task is to investigate the relationship between rainfall and water conductivity in Strawberry Creek using the provided datasets."
   ]
  },
  {
   "cell_type": "markdown",
   "id": "579e49d2",
   "metadata": {},
   "source": [
    "You will complete these assignments with a mix of responses as code and narrative text within this jupyter notebook document. Once finished, go to File > Save and Export Notebook as..., and export as a PDF before uploading the assignment to Gradescope.  \n",
    "\n",
    "Look for triple @@@ signs in places where we expect you to write code or respond to a question. The rest of the notebook should not require modification."
   ]
  },
  {
   "cell_type": "code",
   "execution_count": null,
   "id": "11029b79",
   "metadata": {},
   "outputs": [],
   "source": [
    "# Import necessary libraries\n",
    "import pandas as pd\n",
    "import matplotlib.pyplot as plt\n",
    "import seaborn as sns"
   ]
  },
  {
   "cell_type": "markdown",
   "id": "dae87538",
   "metadata": {},
   "source": [
    "# [1] Import Rainfall and Creek data"
   ]
  },
  {
   "cell_type": "markdown",
   "id": "b5182f4e",
   "metadata": {},
   "source": [
    "To start, import the rainfall and creek data as a Pandas DataFrame. "
   ]
  },
  {
   "cell_type": "code",
   "execution_count": null,
   "id": "c32e27ef",
   "metadata": {},
   "outputs": [],
   "source": [
    "#load the datasets \n",
    "@@@"
   ]
  },
  {
   "cell_type": "code",
   "execution_count": null,
   "id": "7410f8bb",
   "metadata": {},
   "outputs": [],
   "source": [
    "# Display rainfall data \n",
    "@@@"
   ]
  },
  {
   "cell_type": "code",
   "execution_count": null,
   "id": "22d54a94",
   "metadata": {},
   "outputs": [],
   "source": [
    "# Drop first and second column of the rainfall data\n",
    "rainfall_data_clean = @@@\n",
    "rainfall_data_clean"
   ]
  },
  {
   "cell_type": "code",
   "execution_count": null,
   "id": "e8ad89fb",
   "metadata": {},
   "outputs": [],
   "source": [
    "# Display creek data\n",
    "@@@"
   ]
  },
  {
   "cell_type": "code",
   "execution_count": null,
   "id": "a8809c30",
   "metadata": {},
   "outputs": [],
   "source": [
    "# Drop first and second column of the creek data\n",
    "creek_data_clean = @@@\n",
    "creek_data_clean"
   ]
  },
  {
   "cell_type": "code",
   "execution_count": null,
   "id": "a2bdb10a",
   "metadata": {},
   "outputs": [],
   "source": [
    "# Check for missing values\n",
    "print(\"\\nMissing values in Creek Data:\")\n",
    "print(creek_data_clean.isnull().sum())\n",
    "print(\"\\nMissing values in Rainfall Data:\")\n",
    "print(rainfall_data_clean.isnull().sum())"
   ]
  },
  {
   "cell_type": "code",
   "execution_count": null,
   "id": "58ec1d63",
   "metadata": {},
   "outputs": [],
   "source": [
    "# Convert rainfall and creek data UTC date columns to datetime format\n",
    "rainfall_data_clean['end_time'] = @@@\n",
    "rainfall_data_clean.set_index('end_time', inplace=True)\n",
    "\n",
    "creek_data_clean['DateTimeUTC'] = @@@\n",
    "creek_data_clean.set_index('DateTimeUTC', inplace=True)\n"
   ]
  },
  {
   "cell_type": "code",
   "execution_count": null,
   "id": "3680e03f",
   "metadata": {},
   "outputs": [],
   "source": [
    "# Average rainfall and creek data variables into daily averages\n",
    "\n",
    "rainfall_data_daily_average = rainfall_data_clean.resample('D').mean()\n",
    "rainfall_data_daily_average = rainfall_data_daily_average.fillna(0) #replace NA with 0\n",
    "rainfall_data_daily_average.reset_index(inplace=True)\n",
    "\n",
    "creek_data_daily_average = creek_data_clean.resample('D').mean()\n",
    "creek_data_daily_average = creek_data_daily_average.fillna(0)\n",
    "creek_data_daily_average.reset_index(inplace=True)\n",
    "creek_data_daily_average"
   ]
  },
  {
   "cell_type": "code",
   "execution_count": null,
   "id": "34136674",
   "metadata": {},
   "outputs": [],
   "source": [
    "# Plot time series for rainfall\n",
    "@@@"
   ]
  },
  {
   "cell_type": "code",
   "execution_count": null,
   "id": "8b139e57-95d7-4c62-8e35-dfa45745bb3a",
   "metadata": {},
   "outputs": [],
   "source": [
    "# Plot time series for conductivity\n",
    "@@@"
   ]
  },
  {
   "cell_type": "code",
   "execution_count": null,
   "id": "9abb7c86-2672-4221-b6ff-c56735495662",
   "metadata": {},
   "outputs": [],
   "source": [
    "# plot the relationship between conductivity and water depth\n",
    "\n",
    "fig, ax1 = plt.subplots(figsize=(14, 8))\n",
    "\n",
    "# plot the conductivity variables on the left-axis \n",
    "ax1.plot(@@@)\n",
    "ax1.set_xlabel(@@@)\n",
    "ax1.set_ylabel(@@@)\n",
    "ax1.tick_params(@@@)\n",
    "\n",
    "# Tilt the x-tick labels\n",
    "plt.xticks(rotation=45)\n",
    "\n",
    "#create a second y-axis for depth\n",
    "ax2 = ax1.twinx()\n",
    "ax2.plot(@@@)\n",
    "ax2.set_ylabel(@@@)\n",
    "ax2.tick_params(@@@)\n",
    "\n",
    "\n",
    "\n",
    "plt.title(@@@)\n",
    "plt.show()"
   ]
  },
  {
   "cell_type": "code",
   "execution_count": null,
   "id": "f3219767-5485-4052-bd11-68e76bcedee0",
   "metadata": {},
   "outputs": [],
   "source": [
    "# plot the relationship between conductivity and water temperature\n",
    "\n",
    "fig, ax1 = plt.subplots(figsize=(14, 8))\n",
    "\n",
    "# plot the conductivity variables on the left-axis \n",
    "ax1.plot(@@@)\n",
    "ax1.set_xlabel(@@@)\n",
    "ax1.set_ylabel(@@@)\n",
    "ax1.tick_params(@@@)\n",
    "\n",
    "# Tilt the x-tick labels\n",
    "plt.xticks(rotation=45)\n",
    "\n",
    "#create a second y-axis for depth\n",
    "ax2 = ax1.twinx()\n",
    "ax2.plot(@@@)\n",
    "ax2.set_ylabel(@@@)\n",
    "ax2.tick_params(@@@)\n",
    "\n",
    "\n",
    "\n",
    "plt.title(@@@)\n",
    "plt.show()"
   ]
  },
  {
   "cell_type": "markdown",
   "id": "bea7b9d5-9606-4362-bf10-79b4f021207f",
   "metadata": {},
   "source": [
    "Short Answer Questions:\n",
    "\n",
    "Explain why increased rainfall might lead to changes in water conductivity in a creek?\n",
    "\n",
    "What are other potential factors, aside from rainfall, that could influence conductivity levels in a creek?\n",
    "\n",
    "Summarize your findings, including any patterns or significant relationships discovered.\n"
   ]
  },
  {
   "cell_type": "markdown",
   "id": "a67b9cb9-b379-4cbc-a578-56d3fd3c1b08",
   "metadata": {},
   "source": [
    "Answer: \n",
    "\n",
    "@@@\n",
    "\n"
   ]
  },
  {
   "cell_type": "code",
   "execution_count": null,
   "id": "fa4bd54b-b74b-47ae-895d-00d814791ca3",
   "metadata": {},
   "outputs": [],
   "source": []
  }
 ],
 "metadata": {
  "kernelspec": {
   "display_name": "Python 3 (ipykernel)",
   "language": "python",
   "name": "python3"
  },
  "language_info": {
   "codemirror_mode": {
    "name": "ipython",
    "version": 3
   },
   "file_extension": ".py",
   "mimetype": "text/x-python",
   "name": "python",
   "nbconvert_exporter": "python",
   "pygments_lexer": "ipython3",
   "version": "3.11.10"
  }
 },
 "nbformat": 4,
 "nbformat_minor": 5
}
