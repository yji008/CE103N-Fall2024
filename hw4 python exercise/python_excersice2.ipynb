{
 "cells": [
  {
   "cell_type": "markdown",
   "id": "bb1351d1",
   "metadata": {},
   "source": [
    "#### Terrestrial Hydrology Fall 2024 - Aerial averages and mapping\n",
    "\n",
    "Hi everyone! This is our second python excercise. Just as last time, you will complete these assignments with a mix of responses as code and narrative text within this jupyter notebook document. To complete the assignment, go to File > Save and Export Notebook as…, and export as a PDF (.pdf file) before uploading the assignment to Gradescope. \n",
    "\n",
    "Look for triple @@@ signs in places where we expect you to write code or respond to a question. \n",
    "The rest of the notebook should not require modification. "
   ]
  },
  {
   "cell_type": "code",
   "execution_count": null,
   "id": "229ec9f9",
   "metadata": {},
   "outputs": [],
   "source": [
    "import numpy as np\n",
    "import pandas as pd\n",
    "import matplotlib.pyplot as plt\n",
    "from datetime import datetime\n",
    "from matplotlib import dates\n",
    "import matplotlib.dates as mdates\n",
    "import scipy\n",
    "from scipy.interpolate import griddata"
   ]
  },
  {
   "cell_type": "markdown",
   "id": "4506c4c4",
   "metadata": {},
   "source": [
    "## [1] Import Rainfall data \n",
    "* In this lab, we will be uploading yearly rainfall data from 9 UC Natural Reserves system. The list of stations we will use is the following: Bodega, Point Reyes, McLaughlin, Jepson, Blue Oak Ranch, Ano Nuevo, Younger, Yosemite Mariposa Grove, and WhiteMt Barcroft. We will clean up the data, import the latitudes and longitudes of these stations and then do some interpolation. \n",
    "\n",
    "* The following website: https://dendra.science/orgs/ucnrs is the repository for all 38 natural reserves managed by the University of California. The data you have been using in the first two Python labs came from this website, specifically from the Blue Oak Ranch Reserve (BORR), a reserve just south of San Jose! Most of the data is from meteorological stations located at each reserve, but additional data is sometimes available. "
   ]
  },
  {
   "cell_type": "markdown",
   "id": "27c0b676-71a0-489f-961c-222e4457c0e4",
   "metadata": {},
   "source": [
    "We'll start by importing the data for Water Year 2022 as a Pandas DataFrame as we have been doing for the last two labs."
   ]
  },
  {
   "cell_type": "code",
   "execution_count": null,
   "id": "63e96b01-454c-48ff-8bdd-5853a214a795",
   "metadata": {},
   "outputs": [],
   "source": [
    "rain_data = @@@"
   ]
  },
  {
   "cell_type": "markdown",
   "id": "6cfc0a98-0d8e-4a1b-b6ab-e670b820b087",
   "metadata": {},
   "source": [
    "These data are every 10 minutes, similar to the datasets we have been using. Look at the table below to see that we have rain data for a variety of stations. "
   ]
  },
  {
   "cell_type": "code",
   "execution_count": null,
   "id": "79aae8a8",
   "metadata": {},
   "outputs": [],
   "source": [
    "@@@"
   ]
  },
  {
   "cell_type": "markdown",
   "id": "40ecf952-031d-4a2b-bab1-103576f8d16c",
   "metadata": {},
   "source": [
    "## [2] Make yearly data\n",
    "Now we are going to generate yearly rainfall. Below, use the dataframe \"sum\" function to add together all of the precipitation over the water year (at all of the stations in the CSV). "
   ]
  },
  {
   "cell_type": "code",
   "execution_count": null,
   "id": "ad90ddb4-0806-4703-b865-e825cdcd5c06",
   "metadata": {},
   "outputs": [],
   "source": [
    "rain_data_yearly_sum = rain_data.sum()"
   ]
  },
  {
   "cell_type": "markdown",
   "id": "1cd14765-6088-4cae-be36-f4d6ab30c786",
   "metadata": {},
   "source": [
    "To prepare the data for the next step, we will now bring the data back into the dataframe format by applying the \"to_frame\" function as follows:"
   ]
  },
  {
   "cell_type": "code",
   "execution_count": null,
   "id": "6d9aff2e-3ead-4fb5-af89-253d6306a187",
   "metadata": {},
   "outputs": [],
   "source": [
    "rain_data_yearly_sum = rain_data_yearly_sum.to_frame()"
   ]
  },
  {
   "cell_type": "markdown",
   "id": "8166b7c3-23cf-419b-b565-7cfa46ddfbcf",
   "metadata": {},
   "source": [
    "Print the data to look at it with the yearly sums:"
   ]
  },
  {
   "cell_type": "code",
   "execution_count": null,
   "id": "d0634315-bac7-4da2-a40c-d4c008e9ca8d",
   "metadata": {},
   "outputs": [],
   "source": [
    "@@@"
   ]
  },
  {
   "cell_type": "markdown",
   "id": "6237f5a6-3274-431d-acf1-6b16ac32a680",
   "metadata": {},
   "source": [
    "# [3] Download location \n",
    "## Go to https://dendra.science/orgs/ucnrs/stations: this is the list of stations available. Click on each of the 9 stations we are using to find the latitude and longitude coordinates of each station. Edit the 'WY_2022_Locations.csv' file with the information you find."
   ]
  },
  {
   "cell_type": "markdown",
   "id": "4b0b1a47-36b7-4a22-acfc-3eaca9565ae3",
   "metadata": {},
   "source": [
    "Load the coordinate data and print the dataframe"
   ]
  },
  {
   "cell_type": "code",
   "execution_count": null,
   "id": "f2a82a56-e9b2-4c88-bf27-c2bb22dd4c55",
   "metadata": {},
   "outputs": [],
   "source": [
    "coordinate_data = pd.read_csv('@@@')\n",
    "coordinate_data"
   ]
  },
  {
   "cell_type": "markdown",
   "id": "558ae54e-c2d5-4f04-8076-32fc3d5c1c19",
   "metadata": {},
   "source": [
    "As you can see, your \"Coordinate\" dataframe is horizontal, whereas your \"rainfall\" data is vertical. You can easily fix this by transposing the matrix using \".T\" at the end of your dataframe (which stands for \"transpose\"). "
   ]
  },
  {
   "cell_type": "code",
   "execution_count": null,
   "id": "77347b0d-f98d-47e4-b833-87d06c3a9408",
   "metadata": {},
   "outputs": [],
   "source": [
    "coordinate_data = coordinate_data.T"
   ]
  },
  {
   "cell_type": "markdown",
   "id": "6dd7a206-1baf-4fd3-a2e1-d8c1942690ab",
   "metadata": {},
   "source": [
    "Print the dataframe to check it's now in the vertically-stacked direction. "
   ]
  },
  {
   "cell_type": "code",
   "execution_count": null,
   "id": "24173b93-baeb-4e28-980f-bad3737373c8",
   "metadata": {},
   "outputs": [],
   "source": [
    "@@@"
   ]
  },
  {
   "cell_type": "markdown",
   "id": "54e4b0a6-868f-47a0-aff5-f1ec34211e34",
   "metadata": {},
   "source": [
    "The headers are a bit mixed up, let's fix this using the code below!"
   ]
  },
  {
   "cell_type": "code",
   "execution_count": null,
   "id": "ed2d09ba-a2cc-4418-a453-a18a2de47515",
   "metadata": {},
   "outputs": [],
   "source": [
    "#grab the first row for the header\n",
    "new_header = coordinate_data.iloc[0] \n",
    "\n",
    "#take the data less the header row\n",
    "coordinate_data = coordinate_data[1:] \n",
    "\n",
    "# set the name of the columns to be the header we just grabbed\n",
    "coordinate_data.columns = new_header "
   ]
  },
  {
   "cell_type": "markdown",
   "id": "62573bf1-79b6-42a8-9cdc-16de3fee21f7",
   "metadata": {},
   "source": [
    "Print the dataframe to check the headers are now fixed. "
   ]
  },
  {
   "cell_type": "code",
   "execution_count": null,
   "id": "e4a16ec7-8642-48d9-a43a-0744d2a43534",
   "metadata": {},
   "outputs": [],
   "source": [
    "@@@"
   ]
  },
  {
   "cell_type": "markdown",
   "id": "facfd71c",
   "metadata": {},
   "source": [
    "**Question:** How would you explain the code that modified the headers? Write a sentence describing what the code did. "
   ]
  },
  {
   "cell_type": "markdown",
   "id": "c3bcd126",
   "metadata": {},
   "source": [
    "**Answer:** (Here you can essentially summarize the comments from the code.) We made a variable called new_header from the first (0th) row of the dataframe. We then sliced the dataframe to only use rows 1 onwards (i.e. ignoring the 0th row, the header row). We then set the names of the columns of the data frames to be the names from new_header. "
   ]
  },
  {
   "cell_type": "markdown",
   "id": "15009ed8-d324-4347-a25a-9541813c9a15",
   "metadata": {},
   "source": [
    "# [5] Concatenate the coordinates and the rainfall data\n",
    "Use the pandas concat() function to put the coordinates and rainfall data into one data frame. Make sure to use \"axis = 1\" to concatenate in the rigth direction!"
   ]
  },
  {
   "cell_type": "code",
   "execution_count": null,
   "id": "963bb578-cf63-48e5-9248-d8b0c0b74aae",
   "metadata": {},
   "outputs": [],
   "source": [
    "rain_data_merged = pd.concat([@@@])\n",
    "\n",
    "# Now we'll display the output: \n",
    "@@@"
   ]
  },
  {
   "cell_type": "markdown",
   "id": "2b4e8b4f-c76e-4595-9a28-fb3cc7f75737",
   "metadata": {},
   "source": [
    "# [6] Clean up data... again..."
   ]
  },
  {
   "cell_type": "code",
   "execution_count": null,
   "id": "527a7bb9-5473-4526-bbdd-c43ea5a384d1",
   "metadata": {},
   "outputs": [],
   "source": [
    "#the last row is set to be the header of the rainfall data frame, let's remove it\n",
    "rain_data_merged = rain_data_merged[:-1]\n",
    "\n",
    "#Let's rename the Rainfall column to \"rainfall\" instead of \"0\"\n",
    "rain_data_merged = rain_data_merged.rename(columns = {0: 'Rainfall (mm)'})\n",
    "\n",
    "# print the dataframe\n",
    "rain_data_merged"
   ]
  },
  {
   "cell_type": "markdown",
   "id": "1b6bdf4a-b347-4f1b-bd3c-474f99b907ea",
   "metadata": {},
   "source": [
    "# [7] Change data type\n",
    "The resulting dataframe has the data stored as \"objects\", we need to turn the data into \"float\" to run the interpolation. Use the \"astype()\" function to do this."
   ]
  },
  {
   "cell_type": "code",
   "execution_count": null,
   "id": "5a6c3d98-a614-4799-9179-aec3e88a0d41",
   "metadata": {},
   "outputs": [],
   "source": [
    "rain_data_merged = rain_data_merged.astype(float)"
   ]
  },
  {
   "cell_type": "markdown",
   "id": "93f538f7-884f-415c-9d41-3c8bd3449538",
   "metadata": {},
   "source": [
    "# [8] Define plotting function\n",
    "We have data with latitude and longitudes. So we should try to put it on a map! \n",
    "\n",
    "The function below will plot your data points over the interpolation maps that you will be getting. Look at each step to understand what each one does."
   ]
  },
  {
   "cell_type": "code",
   "execution_count": null,
   "id": "e9f7364c-e4c3-4ff1-9a41-75210987d28f",
   "metadata": {},
   "outputs": [],
   "source": [
    "def my_plot_function(x,y,z,grid, buffer_lon, buffer_lat):\n",
    "    # Decide on Figure dimension\n",
    "    plt.figure(figsize=(10,8))\n",
    "    \n",
    "    #plot the interpolated map, with custom buffer around the sapec of teh datapoints we have (buffers)\n",
    "    plt.imshow(grid, extent=(x.min()-buffer_lon, x.max()+buffer_lon, y.max()+buffer_lat,  y.min()-buffer_lat), cmap='rainbow', interpolation='gaussian')\n",
    "    \n",
    "    # plot the actual data points from the stations\n",
    "    plt.scatter(x,y,c=z, cmap='rainbow', edgecolors='black')\n",
    "    \n",
    "    # Add a colorbar\n",
    "    clb = plt.colorbar(orientation=\"horizontal\")\n",
    "    \n",
    "    #Give a title to that colorbar\n",
    "    clb.ax.set_title('Yearly rainfall amount (mm)',fontsize=12)"
   ]
  },
  {
   "cell_type": "markdown",
   "id": "62321dae-bbad-44f0-8cc2-001a5e74a7ab",
   "metadata": {},
   "source": [
    "# [9] Define our grid for the interpolation!"
   ]
  },
  {
   "cell_type": "code",
   "execution_count": null,
   "id": "59c77bec-b0f4-4b06-a144-719edf52db33",
   "metadata": {},
   "outputs": [],
   "source": [
    "# first we define some buffers, so that we make maps in an area slightly larger than the realm strictly defined by the coordinates of the stations\n",
    "# these buffers are in degrees\n",
    "buffer_lon = 0.5\n",
    "buffer_lat = 0.5"
   ]
  },
  {
   "cell_type": "markdown",
   "id": "1eb25032-1537-4134-86d8-d3c8ae3dfe7a",
   "metadata": {},
   "source": [
    "This following cell defines a grid in which we will do the interpolation. We first need to define the length and width of our domain, then we split these into intervals (here 100 pixels in each direction), and then we create this 2D grid of latitudes and longitudes (xi and yi). This is somewhat technical, but try reading the code, keeping in mind that we're just trying to set up a map. "
   ]
  },
  {
   "cell_type": "code",
   "execution_count": null,
   "id": "3d4ef32e-2dc6-46dd-865e-01a5bc01bb05",
   "metadata": {},
   "outputs": [],
   "source": [
    "# Define grid\n",
    "Lon_dist = max(rain_data_merged['Longitude']) - min(rain_data_merged['Longitude'])*2*buffer_lon\n",
    "Lat_dist = max(rain_data_merged['Latitude']) - min(rain_data_merged['Latitude'])+2*buffer_lat\n",
    "\n",
    "nx, ny = round(Lon_dist*100), round(Lat_dist*100)\n",
    "\n",
    "x = np.linspace(min(rain_data_merged['Longitude'])-buffer_lon, max(rain_data_merged['Longitude'])+buffer_lon, round(Lon_dist*100))\n",
    "y = np.linspace(min(rain_data_merged['Latitude'])-buffer_lat, max(rain_data_merged['Latitude'])+buffer_lat, round(Lat_dist*100))\n",
    "\n",
    "xi, yi = np.meshgrid(x,y)"
   ]
  },
  {
   "cell_type": "markdown",
   "id": "4d8846ac-e4ab-43d7-baed-6cc53ca59e22",
   "metadata": {},
   "source": [
    "# Linear interpolation"
   ]
  },
  {
   "cell_type": "code",
   "execution_count": null,
   "id": "1bf032fd-cfbb-4ad7-bc55-3f7536bf2ce3",
   "metadata": {},
   "outputs": [],
   "source": [
    "#Griddata takes in the coordinates and the values of the rainfall, and then the domain over which we want to interpolate (xi,yi) and the method\n",
    "interpo_linear = griddata((rain_data_merged['Longitude'], rain_data_merged['Latitude']), rain_data_merged['Rainfall (mm)'], (xi, yi), method='linear')\n",
    "\n",
    "#the interpolation comes out as a 1D array that we need to put back into a 2D array\n",
    "interpo_linear  = interpo_linear.reshape((ny, nx))\n",
    "\n",
    "#use our plotting function!\n",
    "my_plot_function(rain_data_merged['Longitude'], rain_data_merged['Latitude'], rain_data_merged['Rainfall (mm)'],interpo_linear, buffer_lon, buffer_lat)\n",
    "plt.title('Linear interpolation')\n",
    "plt.show()"
   ]
  },
  {
   "cell_type": "markdown",
   "id": "38ba949f-7754-48a9-97e2-bb92fd9c39db",
   "metadata": {},
   "source": [
    "# Nearest neighbor\n",
    "Now redo the exact same thing but for the nearest neighbor interpolation option of griddata. You need to change the \"method\" argument in the griddata() function to use nearest neighbor. "
   ]
  },
  {
   "cell_type": "code",
   "execution_count": null,
   "id": "fe8ccd8d-0aaa-4094-9d4e-6608c3b9aab3",
   "metadata": {},
   "outputs": [],
   "source": [
    "interpo_NN = griddata((rain_data_merged['Longitude'], rain_data_merged['Latitude']), rain_data_merged['Rainfall (mm)'], (xi, yi), method=@@@)\n",
    "interpo_NN  = interpo_NN.reshape((ny, nx))\n",
    "\n",
    "#plot nearest neighbor \n",
    "my_plot_function(@@@)\n",
    "plt.title(@@@)\n",
    "plt.show()"
   ]
  }
 ],
 "metadata": {
  "kernelspec": {
   "display_name": "Python 3 (ipykernel)",
   "language": "python",
   "name": "python3"
  },
  "language_info": {
   "codemirror_mode": {
    "name": "ipython",
    "version": 3
   },
   "file_extension": ".py",
   "mimetype": "text/x-python",
   "name": "python",
   "nbconvert_exporter": "python",
   "pygments_lexer": "ipython3",
   "version": "3.9.12"
  }
 },
 "nbformat": 4,
 "nbformat_minor": 5
}
