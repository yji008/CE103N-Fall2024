{
 "cells": [
  {
   "cell_type": "markdown",
   "id": "bb1351d1",
   "metadata": {},
   "source": [
    "# Terrestrial Hydrology Fall 2024\n",
    "\n",
    "Hi everyone! This is our second python exercise. Just as last time, you will complete these assignments with a mix of responses as code and text within this jupyter notebook document. To complete the assignment, go to File > Save and Export Notebook as..., and then save that preview as a .pdf file before uploading the assignment to Gradescope. \n",
    "\n",
    "Look for triple @@@ signs in places where we expect you to write code or respond to a question. \n",
    "The rest of the notebook should not require modification. "
   ]
  },
  {
   "cell_type": "code",
   "execution_count": null,
   "id": "229ec9f9",
   "metadata": {},
   "outputs": [],
   "source": [
    "import numpy as np\n",
    "import pandas as pd\n",
    "import matplotlib.pyplot as plt\n",
    "from datetime import datetime\n",
    "from matplotlib import dates\n",
    "import matplotlib.dates as mdates"
   ]
  },
  {
   "cell_type": "markdown",
   "id": "4506c4c4",
   "metadata": {},
   "source": [
    "### [1] Import the CSV file using pandas\n",
    "Based on what you did in the last Python Lab, use the pandas library ('pd') to import data held in the \"BORR_WY_2021.csv\" file. "
   ]
  },
  {
   "cell_type": "code",
   "execution_count": null,
   "id": "0742933f",
   "metadata": {},
   "outputs": [],
   "source": [
    "met_data_21 = # @@@ "
   ]
  },
  {
   "cell_type": "markdown",
   "id": "592df7d8",
   "metadata": {},
   "source": [
    "Unlike what we did for Lab #1, we will create a NEW variable called \"DT\" to store our datetime formated dates and time"
   ]
  },
  {
   "cell_type": "code",
   "execution_count": null,
   "id": "952a3a3f",
   "metadata": {},
   "outputs": [],
   "source": [
    "met_data_21['DT'] = pd.to_datetime( met_data_21['Time'],infer_datetime_format=True)"
   ]
  },
  {
   "cell_type": "markdown",
   "id": "addea206",
   "metadata": {},
   "source": [
    "Print the DataFrame to see the NEW column at the end of the DataFrame"
   ]
  },
  {
   "cell_type": "code",
   "execution_count": null,
   "id": "1461cc95",
   "metadata": {},
   "outputs": [],
   "source": [
    "# @@@ "
   ]
  },
  {
   "cell_type": "markdown",
   "id": "fcbcebce",
   "metadata": {},
   "source": [
    "Plot the total solar radiation over time, incuding x-axis label (use what you did in the last lab to have just a date every other month written on the x-axis) and y axis label (variable + units). Set \"met_data_21['DT']\" as your x data in your plot."
   ]
  },
  {
   "cell_type": "code",
   "execution_count": null,
   "id": "d6fcd866",
   "metadata": {},
   "outputs": [],
   "source": [
    "# @@@"
   ]
  },
  {
   "cell_type": "markdown",
   "id": "82b4c361",
   "metadata": {},
   "source": [
    "**QUESTION:** Describe what is happening in November 2020 in the plot. What are possible reasons you think this might be happening?"
   ]
  },
  {
   "cell_type": "markdown",
   "id": "fcadc7f6",
   "metadata": {},
   "source": [
    "**ANSWER:** @@@"
   ]
  },
  {
   "cell_type": "markdown",
   "id": "5a76a4b0",
   "metadata": {},
   "source": [
    "### [2] Basic statistics\n",
    "Using the \"numpy\" package (abberviated as \"np\"), obtain the average, standard deviation, 5th and 95th pecentile of the air temperature. Use the \"print\" function to show the results you have obtained, make sure to also print \"what\" each number corresponds to. "
   ]
  },
  {
   "cell_type": "code",
   "execution_count": null,
   "id": "056438b7",
   "metadata": {},
   "outputs": [],
   "source": [
    "#@@@ \n",
    "Mean_T = \n",
    "STD_T = \n",
    "T_5 = \n",
    "T_95 = "
   ]
  },
  {
   "cell_type": "markdown",
   "id": "512f61a5",
   "metadata": {},
   "source": [
    "Redo the same steps as above, but this time print the statistics for solar radiation instead."
   ]
  },
  {
   "cell_type": "code",
   "execution_count": null,
   "id": "662affec",
   "metadata": {},
   "outputs": [],
   "source": [
    "#@@@ \n",
    "Mean_S = \n",
    "STD_S = \n",
    "S_5 = \n",
    "S_95 = "
   ]
  },
  {
   "cell_type": "markdown",
   "id": "07c47332",
   "metadata": {},
   "source": [
    "### [3] Time averaging\n",
    "In this next section, we will proceed to do averaging at various timescales in order to highlight various features of the data."
   ]
  },
  {
   "cell_type": "markdown",
   "id": "2e81b622",
   "metadata": {},
   "source": [
    "Here is an example code for creating a new DataFrame that groups the data by doing hourly average"
   ]
  },
  {
   "cell_type": "code",
   "execution_count": null,
   "id": "2116f042",
   "metadata": {},
   "outputs": [],
   "source": [
    "met_data_21_hourly = met_data_21.groupby(pd.Grouper(key='DT',freq='H')).mean()\n",
    "# We are using the groupby() function to make a new variable, met_data_21_hourly, using our data table of imported value.\n",
    "# We are grouping by the datetime \"DT\" variable, and the frequency is \"H\" for hours. We are using the mean() per hour. "
   ]
  },
  {
   "cell_type": "markdown",
   "id": "cf1425f3",
   "metadata": {},
   "source": [
    "Reproduce the line of code to make two new DataFrames averaged at the daily and monthly timescales"
   ]
  },
  {
   "cell_type": "code",
   "execution_count": null,
   "id": "8cc31549",
   "metadata": {},
   "outputs": [],
   "source": [
    "met_data_21_daily = #@@@\n",
    "met_data_21_monthly =  #@@@"
   ]
  },
  {
   "cell_type": "markdown",
   "id": "5f3e39bb",
   "metadata": {},
   "source": [
    "Print your new daily scale DataFrame to see what things look like. In particular, look at how many rows this new dataFrame has compared to the original dataframe."
   ]
  },
  {
   "cell_type": "code",
   "execution_count": null,
   "id": "b7500648",
   "metadata": {},
   "outputs": [],
   "source": [
    "met_data_21_daily"
   ]
  },
  {
   "cell_type": "markdown",
   "id": "71fd9278",
   "metadata": {},
   "source": [
    "Plot solar radiation at all four resolutions (original, hourly, daily, monthly) as four vertically-stacked subplots using plt.subplots(). Label your y-axes so that it's easiy to understand what timescale of averaging is plotted in each panel, label the title of the figure---using suptitle()---to indicate the variable and unit, and the x-axis with the months (every other month)."
   ]
  },
  {
   "cell_type": "code",
   "execution_count": null,
   "id": "76c3f945",
   "metadata": {},
   "outputs": [],
   "source": [
    "# @@@"
   ]
  },
  {
   "cell_type": "markdown",
   "id": "8f2b074b",
   "metadata": {},
   "source": [
    "Unlike other variables, rainfall is usually SUMMED and not average accorss various timescales. Reproduce the process you did above to produce hourly, daily, and monthly metrics of solar radiation but this time produce cumulative sums of rainfall."
   ]
  },
  {
   "cell_type": "code",
   "execution_count": null,
   "id": "b0ef6922",
   "metadata": {},
   "outputs": [],
   "source": [
    "met_data_21_hourly_sum = #@@@\n",
    "met_data_21_daily_sum = \n",
    "met_data_21_monthly_sum = "
   ]
  },
  {
   "cell_type": "markdown",
   "id": "4ea5c0f2",
   "metadata": {},
   "source": [
    "Plot rainfall at all four resolutions (original, hourly, daily, monthly) as four vertically-stacked subplots using plt.subplots(). Label your y-axes so that it's easiy to understand what timescale of summing is plotted in each panel, label the title of the figure---using suptitle()---to indicate the variable and unit, and the x-axis with the months (every other month)."
   ]
  },
  {
   "cell_type": "code",
   "execution_count": null,
   "id": "db6019a2",
   "metadata": {},
   "outputs": [],
   "source": [
    "# @@@"
   ]
  },
  {
   "cell_type": "markdown",
   "id": "67caf0c7",
   "metadata": {},
   "source": [
    "**QUESTION:** Comment on the differences in patterns that you observe for the different levels of time-averaging for radiations and rainfall:\n",
    "\n",
    "- a) What is driving the pattern in solar radiation that becomes more apparent has the averaging period increases? \n",
    "- b) What solar radiation information is lost when averaging? Pay special attention to the range of the values on the y-axis. \n",
    "- c) How does summing the rainfall help better understand the amount and temporal distributuion of rainfall throughout the year?"
   ]
  },
  {
   "cell_type": "markdown",
   "id": "c116b07f",
   "metadata": {},
   "source": [
    "**ANSWER:** @@@"
   ]
  },
  {
   "cell_type": "markdown",
   "id": "fb824443",
   "metadata": {},
   "source": [
    "### [4] Plotting subsets of data - subsetting by time\n",
    "Being able to visualize only a small subset of the data is another great way to look at various patterns. Here we will explore how to plot a few days of data. The following line of code creates a new DataFrame extracting data for January 5th through 8th."
   ]
  },
  {
   "cell_type": "code",
   "execution_count": null,
   "id": "3b271269",
   "metadata": {},
   "outputs": [],
   "source": [
    "Day_one = met_data_21.loc[(met_data_21['Time'] >= '2021-01-05 00:00:00') & (met_data_21['Time'] <= '2021-01-08 00:00:00')]"
   ]
  },
  {
   "cell_type": "markdown",
   "id": "d3956988",
   "metadata": {},
   "source": [
    "Reproduce the code to create a second vector to sample data for June 5th through 8th"
   ]
  },
  {
   "cell_type": "code",
   "execution_count": null,
   "id": "d9bf383d",
   "metadata": {},
   "outputs": [],
   "source": [
    "Day_two = # @@@"
   ]
  },
  {
   "cell_type": "markdown",
   "id": "b80334d7",
   "metadata": {},
   "source": [
    "Below, plot the four soil temperature variables on the same subplot for January 5th-8th and June 5th-8th a second subplot in the same figure. Stack the subplots vertically. Use the title---suptitle()---to indicate the variable and units, the y-axis to indicate what month you are plotting and the x-axis to indicate the day of the month and time. Display a legend so that the reader knows which lines correspond to which depths. "
   ]
  },
  {
   "cell_type": "code",
   "execution_count": null,
   "id": "b56f13fc",
   "metadata": {},
   "outputs": [],
   "source": [
    "# @@@ "
   ]
  },
  {
   "cell_type": "markdown",
   "id": "8ff2d7fc",
   "metadata": {},
   "source": [
    "**QUESTION:** You may remember this from Lab #1. Answer the following:\n",
    "\n",
    "- a) What is the range of temperatures you observe in January for the shallowest depth? What about the deepest depth? How would you answer those two comments for the data from June? \n",
    "- b) Comment on the order of the various depths: which depth has the highest temperature in winter? What about summer? \n",
    "- c) What effects might govern the patterns you just described? aka: why? "
   ]
  },
  {
   "cell_type": "markdown",
   "id": "57ae28b9",
   "metadata": {},
   "source": [
    "**ANSWER:** @@@"
   ]
  },
  {
   "cell_type": "markdown",
   "id": "1bd7c712",
   "metadata": {},
   "source": [
    "### [5] Plotting subsets of data - subsetting by value\n",
    "Data can be messy, and sometimes requires cleaning. Here we will practice this skill by subsetting the solar radiation to extract only daytime values. Use the same syntax used for subsetting in time, but this time to subset for values where the total solar radiation is larger than 0."
   ]
  },
  {
   "cell_type": "code",
   "execution_count": null,
   "id": "2969562a",
   "metadata": {},
   "outputs": [],
   "source": [
    "Day_time_radiation = # @@@ "
   ]
  },
  {
   "cell_type": "markdown",
   "id": "5bb88b47",
   "metadata": {},
   "source": [
    "Now re-run the statics you calculated in Part [2]  (average, std, 5th and 95th percentiles) for solar radiation for this subset of data and print the results as before indicating what it is you are printing."
   ]
  },
  {
   "cell_type": "code",
   "execution_count": null,
   "id": "3ba51e19",
   "metadata": {},
   "outputs": [],
   "source": [
    "# @@@ \n",
    "Mean_S_2 = \n",
    "STD_S_2 = \n",
    "S_5_2 = \n",
    "S_95_2 = "
   ]
  },
  {
   "cell_type": "markdown",
   "id": "034dc2c8",
   "metadata": {},
   "source": [
    "**QUESTION:** Now let's compare statistics you got for the original dataset back in section [2], compared to the daytime data only. \n",
    "\n",
    "- a) Which has a higher average? \n",
    "- b) What about the range of the data (given by the 5th and 95th percentiles): when is it largest and why? \n",
    "- c) How might day length impacting these statistics?"
   ]
  },
  {
   "cell_type": "markdown",
   "id": "8ec55d5b",
   "metadata": {},
   "source": [
    "**ANSWER:** @@@"
   ]
  },
  {
   "cell_type": "markdown",
   "id": "8efe076f",
   "metadata": {},
   "source": [
    "Congrats! You've reached the end of Lab 2. "
   ]
  }
 ],
 "metadata": {
  "kernelspec": {
   "display_name": "Python 3 (ipykernel)",
   "language": "python",
   "name": "python3"
  },
  "language_info": {
   "codemirror_mode": {
    "name": "ipython",
    "version": 3
   },
   "file_extension": ".py",
   "mimetype": "text/x-python",
   "name": "python",
   "nbconvert_exporter": "python",
   "pygments_lexer": "ipython3",
   "version": "3.11.9"
  }
 },
 "nbformat": 4,
 "nbformat_minor": 5
}
